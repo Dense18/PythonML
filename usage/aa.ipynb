{
 "cells": [
  {
   "cell_type": "code",
   "execution_count": 9,
   "metadata": {},
   "outputs": [
    {
     "data": {
      "text/plain": [
       "0.9333333333333333"
      ]
     },
     "execution_count": 9,
     "metadata": {},
     "output_type": "execute_result"
    }
   ],
   "source": [
    "from sklearn.model_selection import train_test_split\n",
    "from sklearn import datasets\n",
    "\n",
    "from models.tree.DecisionTreeClassifier import DecisionTreeClassifier\n",
    "from utils.metrics import accuracy_score\n",
    "\n",
    "# Load data\n",
    "breast = datasets.load_breast_cancer()\n",
    "X, y = breast.data, breast.target\n",
    "X_train, X_test, y_train, y_test = train_test_split(X, y, test_size=0.2, random_state=12)\n",
    "\n",
    "# Build model\n",
    "knn = DecisionTreeClassifier(min_samples_split = 2, max_depth=10, random_state=123) # Look at the class docstrings to identify which parameters a specific model supports\n",
    "knn.fit(X_train, y_train) \n",
    "\n",
    "# Use model\n",
    "y_pred  = knn.predict(X_test)\n",
    "accuracy_score(y_test, y_pred)\n",
    "# >>> 0.9333333333333333"
   ]
  },
  {
   "cell_type": "code",
   "execution_count": null,
   "metadata": {},
   "outputs": [],
   "source": []
  }
 ],
 "metadata": {
  "kernelspec": {
   "display_name": "Python 3",
   "language": "python",
   "name": "python3"
  },
  "language_info": {
   "codemirror_mode": {
    "name": "ipython",
    "version": 3
   },
   "file_extension": ".py",
   "mimetype": "text/x-python",
   "name": "python",
   "nbconvert_exporter": "python",
   "pygments_lexer": "ipython3",
   "version": "3.11.1"
  },
  "orig_nbformat": 4
 },
 "nbformat": 4,
 "nbformat_minor": 2
}
