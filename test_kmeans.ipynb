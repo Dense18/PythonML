{
 "cells": [
  {
   "cell_type": "code",
   "execution_count": 1,
   "metadata": {},
   "outputs": [],
   "source": [
    "from KMeans import KMeans\n",
    "import numpy as np\n",
    "import pandas as pd\n",
    "\n",
    "from sklearn.model_selection import train_test_split\n",
    "from sklearn.metrics import accuracy_score\n",
    "from sklearn import datasets\n",
    "\n",
    "import matplotlib.pyplot as plt\n",
    "from matplotlib.colors import ListedColormap\n",
    "import sklearn.cluster as cluster"
   ]
  },
  {
   "cell_type": "code",
   "execution_count": 2,
   "metadata": {},
   "outputs": [],
   "source": [
    "iris = datasets.load_iris()\n",
    "X, y = iris.data, iris.target"
   ]
  },
  {
   "cell_type": "code",
   "execution_count": 3,
   "metadata": {},
   "outputs": [
    {
     "ename": "TypeError",
     "evalue": "KMeans.__init__() got an unexpected keyword argument 'max_iterations'",
     "output_type": "error",
     "traceback": [
      "\u001b[1;31m---------------------------------------------------------------------------\u001b[0m",
      "\u001b[1;31mTypeError\u001b[0m                                 Traceback (most recent call last)",
      "Cell \u001b[1;32mIn[3], line 1\u001b[0m\n\u001b[1;32m----> 1\u001b[0m \u001b[39mcls\u001b[39m \u001b[39m=\u001b[39m KMeans(max_iterations\u001b[39m=\u001b[39;49m\u001b[39m100\u001b[39;49m, n_clusters\u001b[39m=\u001b[39;49m\u001b[39m3\u001b[39;49m, random_state\u001b[39m=\u001b[39;49m\u001b[39m100\u001b[39;49m, n_init\u001b[39m=\u001b[39;49m\u001b[39m2\u001b[39;49m)\n\u001b[0;32m      2\u001b[0m \u001b[39mcls\u001b[39m\u001b[39m.\u001b[39mfit(X, plot \u001b[39m=\u001b[39m \u001b[39mFalse\u001b[39;00m)\n",
      "\u001b[1;31mTypeError\u001b[0m: KMeans.__init__() got an unexpected keyword argument 'max_iterations'"
     ]
    }
   ],
   "source": [
    "cls = KMeans(max_iter=100, n_clusters=3, random_state=100, n_init=2)\n",
    "cls.fit(X, plot = False)"
   ]
  },
  {
   "cell_type": "code",
   "execution_count": null,
   "metadata": {},
   "outputs": [],
   "source": [
    "cmap = ListedColormap([\"#FF0000\", \"#00FF00\", \"#0000FF\"])\n",
    "fig, ax = plt.subplots()\n",
    "# plt.figure(facecolor=\"white\", edgecolor=\"purple\")\n",
    "\n",
    "ax.set_xlabel(iris.feature_names[2], c = \"red\")\n",
    "ax.set_ylabel(iris.feature_names[3], c = \"blue\")\n",
    "\n",
    "ax.tick_params(\"x\", color = \"red\")\n",
    "ax.tick_params(\"y\", color = \"blue\")\n",
    "\n",
    "ax.scatter(X[:,2], X[:,3], c = cls.labels, edgecolors=\"black\", s = 20)\n",
    "ax.scatter(cls.centroids[:,2], cls.centroids[:,3], c = range(3), s = 200, edgecolors = \"black\", marker = \"*\")\n",
    "plt.show()"
   ]
  },
  {
   "cell_type": "code",
   "execution_count": null,
   "metadata": {},
   "outputs": [],
   "source": [
    "df = pd.DataFrame(data = iris.data, columns = iris.feature_names)\n",
    "df[\"target\"] = pd.Series(iris.target)\n",
    "df.head(3)"
   ]
  },
  {
   "cell_type": "code",
   "execution_count": null,
   "metadata": {},
   "outputs": [],
   "source": [
    "new_instance = np.array([[3,3,1.5, 0.2],\n",
    "                         [3,3,4, 1.5]])\n",
    "pred_value = cls.predict(new_instance)\n",
    "pred_value"
   ]
  },
  {
   "cell_type": "code",
   "execution_count": null,
   "metadata": {},
   "outputs": [],
   "source": [
    "cmap = ListedColormap([\"red\", \"green\", \"blue\"]) #(red, green, blue)\n",
    "color_dict = {\n",
    "    0: \"red\",\n",
    "    1: \"green\",\n",
    "    2: \"blue\",\n",
    "}\n",
    "\n",
    "colors = [color_dict[pred_value[i]] for i in range(len(pred_value))]\n",
    "    \n",
    "fig, ax = plt.subplots()\n",
    "# plt.figure(facecolor=\"white\", edgecolor=\"purple\")\n",
    "ax.set_xlabel(iris.feature_names[2], c = \"red\")\n",
    "ax.set_ylabel(iris.feature_names[3], c = \"blue\")\n",
    "\n",
    "ax.tick_params(\"x\", color = \"red\")\n",
    "ax.tick_params(\"y\", color = \"blue\")\n",
    "\n",
    "ax.scatter(X[:,2], X[:,3], c = cls.labels, cmap = cmap, edgecolors=\"black\", s = 20)\n",
    "ax.scatter(cls.centroids[:,2], cls.centroids[:,3], c = range(3), cmap = cmap,s = 200, edgecolors = \"black\", marker = \"*\")\n",
    "ax.scatter(new_instance[:,2], new_instance[:,3], c = colors, s = 200, edgecolors = \"black\", marker = \"^\")\n",
    "\n",
    "plt.show()"
   ]
  },
  {
   "cell_type": "code",
   "execution_count": null,
   "metadata": {},
   "outputs": [],
   "source": [
    "import sklearn.cluster as cluster\n",
    "\n",
    "wcss_custom = []\n",
    "K = range(1,6)\n",
    "for k in K:\n",
    "    kmeans_custom = KMeans(n_clusters=k, max_iterations=100)\n",
    "    kmeans_custom.fit(X)\n",
    "    wcss_custom.append(kmeans_custom.inertia)\n",
    "\n",
    "wcss_sklearn = []\n",
    "for k in K:\n",
    "    kmeanModel = cluster.KMeans(n_clusters=k, n_init=\"auto\")\n",
    "    kmeanModel.fit(X)\n",
    "    wcss_sklearn.append(kmeanModel.inertia_)\n",
    "    \n"
   ]
  },
  {
   "cell_type": "code",
   "execution_count": null,
   "metadata": {},
   "outputs": [],
   "source": [
    "# Plot elbow method for custom kMeans\n",
    "\n",
    "fig, (ax1, ax2) = plt.subplots(1, 2, figsize = (12,4))\n",
    "\n",
    "plt.figure(figsize=(16, 8))\n",
    "ax1.set_title(\"WCSS for iteration k with custom K-Means\")\n",
    "ax1.plot(K, wcss_custom, \"bx-\")\n",
    "ax1.set_xlabel(\"k\")\n",
    "ax1.set_ylabel(\"WCSS Score\")\n",
    "ax1.set_xticks(K)\n",
    "\n",
    "\n",
    "# Plot elbow method for sklearn kMeans\n",
    "ax2.set_title(\"WCSS for iteration k with sklearn K-Means\")\n",
    "ax2.plot(K, wcss_sklearn, 'rx-')\n",
    "ax2.set_xlabel('k')\n",
    "ax2.set_ylabel('WSS Score')\n",
    "ax2.set_xticks(K)\n",
    "\n",
    "plt.show()"
   ]
  },
  {
   "cell_type": "code",
   "execution_count": null,
   "metadata": {},
   "outputs": [],
   "source": [
    "centroids = np.zeros((cls.n_clusters, X.shape[1]))\n",
    "centroids"
   ]
  },
  {
   "cell_type": "code",
   "execution_count": null,
   "metadata": {},
   "outputs": [],
   "source": [
    "centroids[0] = np.random.default_rng().choice(X)\n",
    "centroids"
   ]
  },
  {
   "cell_type": "code",
   "execution_count": null,
   "metadata": {},
   "outputs": [],
   "source": []
  }
 ],
 "metadata": {
  "kernelspec": {
   "display_name": "Python 3",
   "language": "python",
   "name": "python3"
  },
  "language_info": {
   "codemirror_mode": {
    "name": "ipython",
    "version": 3
   },
   "file_extension": ".py",
   "mimetype": "text/x-python",
   "name": "python",
   "nbconvert_exporter": "python",
   "pygments_lexer": "ipython3",
   "version": "3.11.1"
  },
  "orig_nbformat": 4
 },
 "nbformat": 4,
 "nbformat_minor": 2
}
