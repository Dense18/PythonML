{
 "cells": [
  {
   "attachments": {},
   "cell_type": "markdown",
   "metadata": {},
   "source": []
  },
  {
   "cell_type": "code",
   "execution_count": 1,
   "metadata": {},
   "outputs": [],
   "source": [
    "import numpy as np\n",
    "import pandas as pd\n",
    "\n",
    "from DecisionTreeClassifier import DecisionTreeClassifier\n",
    "from sklearn.model_selection import train_test_split\n",
    "from sklearn.metrics import accuracy_score\n",
    "from sklearn import datasets\n",
    "from sklearn import tree\n",
    "\n",
    "\n",
    "data = datasets.load_breast_cancer()\n",
    "X, y = data.data, data.target\n",
    "\n",
    "X_train, X_test, y_train, y_test = train_test_split(\n",
    "    X, y, test_size=0.2, random_state=1234\n",
    ")\n",
    "\n"
   ]
  },
  {
   "cell_type": "code",
   "execution_count": 2,
   "metadata": {},
   "outputs": [
    {
     "name": "stdout",
     "output_type": "stream",
     "text": [
      "0.9122807017543859\n"
     ]
    }
   ],
   "source": [
    "clf = DecisionTreeClassifier(min_samples_split = 2, max_depth=10)\n",
    "clf.fit(X_train, y_train)\n",
    "predictions = clf.predict(X_test)\n",
    "\n",
    "def accuracy(y_test, y_pred):\n",
    "    return np.sum(y_test == y_pred) / len(y_test)\n",
    "\n",
    "acc = accuracy(y_test, predictions)\n",
    "print(acc)"
   ]
  },
  {
   "cell_type": "code",
   "execution_count": 4,
   "metadata": {},
   "outputs": [
    {
     "name": "stdout",
     "output_type": "stream",
     "text": [
      "|--- feature_7 <= 0.05102\n",
      "|   |--- feature_3 <= 693.7\n",
      "|   |   |--- feature_21 <= 29.2\n",
      "|   |   |   |--- class: 1\n",
      "|   |   |--- feature_21 >  29.2\n",
      "|   |   |   |--- feature_7 <= 0.04531\n",
      "|   |   |   |   |--- feature_14 <= 0.004088\n",
      "|   |   |   |   |   |--- class: 0\n",
      "|   |   |   |   |--- feature_14 >  0.004088\n",
      "|   |   |   |   |   |--- feature_24 <= 0.1406\n",
      "|   |   |   |   |   |   |--- class: 1\n",
      "|   |   |   |   |   |--- feature_24 >  0.1406\n",
      "|   |   |   |   |   |   |--- feature_0 <= 11.69\n",
      "|   |   |   |   |   |   |   |--- class: 1\n",
      "|   |   |   |   |   |   |--- feature_0 >  11.69\n",
      "|   |   |   |   |   |   |   |--- class: 0\n",
      "|   |   |   |--- feature_7 >  0.04531\n",
      "|   |   |   |   |--- class: 0\n",
      "|   |--- feature_3 >  693.7\n",
      "|   |   |--- feature_1 <= 19.46\n",
      "|   |   |   |--- feature_0 <= 15.12\n",
      "|   |   |   |   |--- class: 0\n",
      "|   |   |   |--- feature_0 >  15.12\n",
      "|   |   |   |   |--- class: 1\n",
      "|   |   |--- feature_1 >  19.46\n",
      "|   |   |   |--- class: 0\n",
      "|--- feature_7 >  0.05102\n",
      "|   |--- feature_23 <= 861.5\n",
      "|   |   |--- feature_21 <= 25.47\n",
      "|   |   |   |--- feature_7 <= 0.07857\n",
      "|   |   |   |   |--- feature_7 <= 0.05246\n",
      "|   |   |   |   |   |--- class: 0\n",
      "|   |   |   |   |--- feature_7 >  0.05246\n",
      "|   |   |   |   |   |--- class: 1\n",
      "|   |   |   |--- feature_7 >  0.07857\n",
      "|   |   |   |   |--- class: 0\n",
      "|   |   |--- feature_21 >  25.47\n",
      "|   |   |   |--- feature_25 <= 0.257\n",
      "|   |   |   |   |--- class: 1\n",
      "|   |   |   |--- feature_25 >  0.257\n",
      "|   |   |   |   |--- class: 0\n",
      "|   |--- feature_23 >  861.5\n",
      "|   |   |--- class: 0\n",
      "\n"
     ]
    }
   ],
   "source": [
    "print(clf)"
   ]
  },
  {
   "cell_type": "code",
   "execution_count": 5,
   "metadata": {},
   "outputs": [
    {
     "name": "stdout",
     "output_type": "stream",
     "text": [
      "0.8947368421052632\n"
     ]
    }
   ],
   "source": [
    "clf = tree.DecisionTreeClassifier(min_samples_split = 2, max_depth=10)\n",
    "clf.fit(X_train, y_train)\n",
    "predictions = clf.predict(X_test)\n",
    "\n",
    "def accuracy(y_test, y_pred):\n",
    "    return np.sum(y_test == y_pred) / len(y_test)\n",
    "\n",
    "acc = accuracy(y_test, predictions)\n",
    "print(acc)"
   ]
  },
  {
   "cell_type": "code",
   "execution_count": 8,
   "metadata": {},
   "outputs": [
    {
     "name": "stdout",
     "output_type": "stream",
     "text": [
      "|--- feature_27 <= 0.14\n",
      "|   |--- feature_23 <= 957.45\n",
      "|   |   |--- feature_10 <= 1.05\n",
      "|   |   |   |--- feature_22 <= 104.10\n",
      "|   |   |   |   |--- feature_21 <= 33.27\n",
      "|   |   |   |   |   |--- class: 1\n",
      "|   |   |   |   |--- feature_21 >  33.27\n",
      "|   |   |   |   |   |--- feature_21 <= 33.80\n",
      "|   |   |   |   |   |   |--- class: 0\n",
      "|   |   |   |   |   |--- feature_21 >  33.80\n",
      "|   |   |   |   |   |   |--- class: 1\n",
      "|   |   |   |--- feature_22 >  104.10\n",
      "|   |   |   |   |--- feature_24 <= 0.14\n",
      "|   |   |   |   |   |--- feature_17 <= 0.02\n",
      "|   |   |   |   |   |   |--- class: 1\n",
      "|   |   |   |   |   |--- feature_17 >  0.02\n",
      "|   |   |   |   |   |   |--- class: 0\n",
      "|   |   |   |   |--- feature_24 >  0.14\n",
      "|   |   |   |   |   |--- class: 0\n",
      "|   |   |--- feature_10 >  1.05\n",
      "|   |   |   |--- class: 0\n",
      "|   |--- feature_23 >  957.45\n",
      "|   |   |--- feature_27 <= 0.09\n",
      "|   |   |   |--- feature_23 <= 1214.00\n",
      "|   |   |   |   |--- class: 1\n",
      "|   |   |   |--- feature_23 >  1214.00\n",
      "|   |   |   |   |--- class: 0\n",
      "|   |   |--- feature_27 >  0.09\n",
      "|   |   |   |--- class: 0\n",
      "|--- feature_27 >  0.14\n",
      "|   |--- feature_13 <= 18.34\n",
      "|   |   |--- feature_21 <= 28.38\n",
      "|   |   |   |--- class: 1\n",
      "|   |   |--- feature_21 >  28.38\n",
      "|   |   |   |--- class: 0\n",
      "|   |--- feature_13 >  18.34\n",
      "|   |   |--- feature_20 <= 14.86\n",
      "|   |   |   |--- class: 1\n",
      "|   |   |--- feature_20 >  14.86\n",
      "|   |   |   |--- feature_26 <= 0.20\n",
      "|   |   |   |   |--- class: 1\n",
      "|   |   |   |--- feature_26 >  0.20\n",
      "|   |   |   |   |--- class: 0\n",
      "\n"
     ]
    }
   ],
   "source": [
    "print(tree.export_text(clf))\n"
   ]
  }
 ],
 "metadata": {
  "kernelspec": {
   "display_name": "Python 3",
   "language": "python",
   "name": "python3"
  },
  "language_info": {
   "codemirror_mode": {
    "name": "ipython",
    "version": 3
   },
   "file_extension": ".py",
   "mimetype": "text/x-python",
   "name": "python",
   "nbconvert_exporter": "python",
   "pygments_lexer": "ipython3",
   "version": "3.11.1"
  },
  "orig_nbformat": 4
 },
 "nbformat": 4,
 "nbformat_minor": 2
}
