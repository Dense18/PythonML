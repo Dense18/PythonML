{
 "cells": [
  {
   "attachments": {},
   "cell_type": "markdown",
   "metadata": {},
   "source": [
    "<div style=\"display:float\">\n",
    "  <h1 style=\"margin-top: 36px; font-size: 32px; float:left\">Kmeans from Scratch with Numpy</h1>\n",
    "  <img style=\"vertical-align:middle; float:right\" src=\"http://gntlearning.com/wp-content/uploads/2021/05/Small_Logo-278x64.jpg\" width=250px>\n",
    "</div>"
   ]
  },
  {
   "cell_type": "code",
   "execution_count": 1,
   "metadata": {
    "collapsed": true
   },
   "outputs": [],
   "source": [
    "import numpy as np\n",
    "import matplotlib.pyplot as plt\n",
    "from scipy.spatial.distance import cdist"
   ]
  },
  {
   "cell_type": "code",
   "execution_count": 2,
   "metadata": {
    "collapsed": true
   },
   "outputs": [],
   "source": [
    "np.random.seed(14)\n",
    "n = 20\n",
    "p = 2\n",
    "k = 3\n",
    "X = np.random.random((n,p))"
   ]
  },
  {
   "cell_type": "code",
   "execution_count": 3,
   "metadata": {
    "collapsed": false
   },
   "outputs": [
    {
     "data": {
      "text/plain": [
       "<matplotlib.collections.PathCollection at 0x24c3dad4bd0>"
      ]
     },
     "execution_count": 3,
     "metadata": {},
     "output_type": "execute_result"
    },
    {
     "data": {
      "image/png": "[encoded data removed]",
      "text/plain": [
       "<Figure size 640x480 with 1 Axes>"
      ]
     },
     "metadata": {},
     "output_type": "display_data"
    }
   ],
   "source": [
    "plt.scatter(X[:,0], X[:,1])"
   ]
  },
  {
   "cell_type": "code",
   "execution_count": 20,
   "metadata": {
    "collapsed": true
   },
   "outputs": [],
   "source": [
    "# init centers\n",
    "# while not converged:\n",
    "#  update cluster membership\n",
    "#  update centers"
   ]
  },
  {
   "cell_type": "code",
   "execution_count": 4,
   "metadata": {
    "collapsed": false
   },
   "outputs": [
    {
     "data": {
      "text/plain": [
       "array([[0.53888885, 0.00587379],\n",
       "       [0.88753746, 0.08334916],\n",
       "       [0.30009198, 0.47490577]])"
      ]
     },
     "execution_count": 4,
     "metadata": {},
     "output_type": "execute_result"
    }
   ],
   "source": [
    "# init centers\n",
    "centers = X[np.random.choice(n, k, replace=False)]\n",
    "centers"
   ]
  },
  {
   "cell_type": "code",
   "execution_count": 22,
   "metadata": {
    "collapsed": false
   },
   "outputs": [
    {
     "data": {
      "text/plain": [
       "0.7676966627027265"
      ]
     },
     "execution_count": 22,
     "metadata": {},
     "output_type": "execute_result"
    }
   ],
   "source": [
    "((X[0]-centers[0])**2).sum()**0.5"
   ]
  },
  {
   "cell_type": "code",
   "execution_count": 23,
   "metadata": {
    "collapsed": false
   },
   "outputs": [
    {
     "data": {
      "text/plain": [
       "array([0.58935817, 0.10992272, 0.95830097, 0.09826461, 0.04638914,\n",
       "       0.18475782, 0.        , 0.05970414, 0.29067225, 0.6190457 ,\n",
       "       0.12083103, 0.27701494, 0.08133111, 0.45029453, 0.22733973,\n",
       "       0.12755829, 0.04631859, 0.57972669, 0.98838235, 0.04138358])"
      ]
     },
     "execution_count": 23,
     "metadata": {},
     "output_type": "execute_result"
    }
   ],
   "source": [
    "((X-centers[0])**2).sum(axis=1)"
   ]
  },
  {
   "cell_type": "code",
   "execution_count": 9,
   "metadata": {},
   "outputs": [
    {
     "data": {
      "text/plain": [
       "array([[[0.53888885, 0.00587379],\n",
       "        [0.88753746, 0.08334916],\n",
       "        [0.30009198, 0.47490577]]])"
      ]
     },
     "execution_count": 9,
     "metadata": {},
     "output_type": "execute_result"
    }
   ],
   "source": [
    "X.reshape(n,1,p)\n",
    "centers.reshape(1,k,p)"
   ]
  },
  {
   "cell_type": "code",
   "execution_count": 25,
   "metadata": {
    "collapsed": false
   },
   "outputs": [
    {
     "data": {
      "text/plain": [
       "array([[0.76769666, 0.78448615, 0.36700273],\n",
       "       [0.33154596, 0.07722155, 0.73704815],\n",
       "       [0.97892848, 1.04793878, 0.4827943 ],\n",
       "       [0.31347187, 0.44202429, 0.26440458],\n",
       "       [0.21538138, 0.37464254, 0.34858479],\n",
       "       [0.42983464, 0.27129713, 0.52347543],\n",
       "       [0.        , 0.35715303, 0.52632209],\n",
       "       [0.2443443 , 0.24901305, 0.45753289],\n",
       "       [0.53914029, 0.29435872, 0.64042595],\n",
       "       [0.78679457, 0.6930882 , 0.53635628],\n",
       "       [0.34760758, 0.03172537, 0.67708181],\n",
       "       [0.52632209, 0.70598071, 0.        ],\n",
       "       [0.2851861 , 0.27643117, 0.43155334],\n",
       "       [0.67103989, 0.60317091, 0.44046217],\n",
       "       [0.47680156, 0.74481974, 0.1931445 ],\n",
       "       [0.35715303, 0.        , 0.70598071],\n",
       "       [0.21521753, 0.14252875, 0.60789768],\n",
       "       [0.76139786, 0.67738348, 0.50765081],\n",
       "       [0.9941742 , 1.02691887, 0.52761227],\n",
       "       [0.20342955, 0.44824302, 0.32304535]])"
      ]
     },
     "execution_count": 25,
     "metadata": {},
     "output_type": "execute_result"
    }
   ],
   "source": [
    "distances = np.zeros((n,k))\n",
    "for i in range(k):\n",
    "    distances[:,i] = ((X-centers[i])**2).sum(axis=1)**0.5\n",
    "distances"
   ]
  },
  {
   "cell_type": "code",
   "execution_count": 5,
   "metadata": {
    "collapsed": false
   },
   "outputs": [
    {
     "data": {
      "text/plain": [
       "array([2, 1, 2, 2, 0, 1, 0, 0, 1, 2, 1, 2, 1, 2, 2, 1, 1, 2, 2, 0],\n",
       "      dtype=int64)"
      ]
     },
     "execution_count": 5,
     "metadata": {},
     "output_type": "execute_result"
    }
   ],
   "source": [
    "# update cluster membership\n",
    "distances = cdist(X, centers)\n",
    "closest = np.argmin(distances, axis=1)\n",
    "closest"
   ]
  },
  {
   "cell_type": "code",
   "execution_count": 27,
   "metadata": {
    "collapsed": false
   },
   "outputs": [
    {
     "data": {
      "text/plain": [
       "array([0.55084464, 0.15675788])"
      ]
     },
     "execution_count": 27,
     "metadata": {},
     "output_type": "execute_result"
    }
   ],
   "source": [
    "X[closest == 0].mean(axis=0)"
   ]
  },
  {
   "cell_type": "code",
   "execution_count": 28,
   "metadata": {
    "collapsed": false
   },
   "outputs": [
    {
     "data": {
      "text/plain": [
       "array([[0.55084464, 0.15675788],\n",
       "       [0.82671491, 0.17684988],\n",
       "       [0.49020699, 0.66667282]])"
      ]
     },
     "execution_count": 28,
     "metadata": {},
     "output_type": "execute_result"
    }
   ],
   "source": [
    "# update centers\n",
    "for i in range(k):\n",
    "    centers[i, :] = X[closest == i].mean(axis=0)\n",
    "centers"
   ]
  },
  {
   "cell_type": "code",
   "execution_count": 29,
   "metadata": {
    "collapsed": false
   },
   "outputs": [
    {
     "name": "stdout",
     "output_type": "stream",
     "text": [
      "[0 0 0 0 0 0 0 0 0 0 0 0 0 0 0 0 0 0 0 0]\n",
      "[2 0 2 1 1 1 0 1 1 2 1 2 1 2 2 1 0 2 2 1]\n",
      "[2 0 2 1 1 1 0 1 1 2 0 2 1 2 2 0 0 2 2 1]\n",
      "[2 0 2 1 1 1 0 1 1 2 0 2 1 2 1 0 0 2 2 1]\n",
      "[2 0 2 1 1 1 0 1 1 2 0 1 1 2 1 0 0 2 2 1]\n",
      "[2 0 2 1 1 1 0 1 0 2 0 1 1 2 1 0 0 2 2 1]\n",
      "[2 0 2 1 1 0 1 0 0 2 0 1 1 2 1 0 0 2 2 1]\n",
      "[2 0 2 1 1 0 1 0 0 2 0 1 0 2 1 0 0 2 2 1]\n"
     ]
    }
   ],
   "source": [
    "np.random.seed(4160659)\n",
    "centers = X[np.random.choice(n, k, replace=False)]\n",
    "closest = np.zeros(n).astype(int)\n",
    "\n",
    "while True:\n",
    "    old_closest = closest.copy()\n",
    "    print(closest)\n",
    "    distances = cdist(X, centers)\n",
    "    closest = np.argmin(distances, axis=1)\n",
    "    \n",
    "    for i in range(k):\n",
    "        centers[i, :] = X[closest == i].mean(axis=0)\n",
    "        \n",
    "    if all(closest == old_closest):\n",
    "        break"
   ]
  },
  {
   "cell_type": "code",
   "execution_count": 30,
   "metadata": {
    "collapsed": false
   },
   "outputs": [
    {
     "data": {
      "text/plain": [
       "<matplotlib.collections.PathCollection at 0x7f2692150c70>"
      ]
     },
     "execution_count": 30,
     "metadata": {},
     "output_type": "execute_result"
    },
    {
     "data": {
      "image/png": "[encoded data removed]",
      "text/plain": [
       "<Figure size 432x288 with 1 Axes>"
      ]
     },
     "metadata": {
      "needs_background": "light"
     },
     "output_type": "display_data"
    }
   ],
   "source": [
    "plt.scatter(X[:,0],X[:,1],c=closest)"
   ]
  },
  {
   "cell_type": "code",
   "execution_count": 31,
   "metadata": {
    "collapsed": true
   },
   "outputs": [],
   "source": [
    "def kmeans(X, k):\n",
    "    # init centers\n",
    "    n = X.shape[0]\n",
    "    centers = X[np.random.choice(n, k, replace=False)]    \n",
    "    closest = np.zeros(n).astype(int)\n",
    "    \n",
    "    while True:\n",
    "        old_closest = closest.copy()\n",
    "        \n",
    "        #  update cluster membership\n",
    "        distances = cdist(X, centers)\n",
    "        closest = np.argmin(distances, axis=1)\n",
    "        \n",
    "        #  update centers\n",
    "        for i in range(k):\n",
    "            centers[i, :] = X[closest == i].mean(axis=0)\n",
    "            \n",
    "        # break if converged\n",
    "        if all(closest == old_closest):\n",
    "            break\n",
    "            \n",
    "    return closest, centers"
   ]
  },
  {
   "cell_type": "code",
   "execution_count": 32,
   "metadata": {
    "collapsed": false
   },
   "outputs": [
    {
     "name": "stdout",
     "output_type": "stream",
     "text": [
      "[0 1 0 2 2 1 3 1 1 0 1 2 1 0 2 1 1 0 0 2]\n",
      "[[0.56944108 0.8141337 ]\n",
      " [0.80751961 0.18099668]\n",
      " [0.39731074 0.30527733]\n",
      " [0.53888885 0.00587379]]\n"
     ]
    }
   ],
   "source": [
    "labels, centers = kmeans(X, 4)\n",
    "print(labels)\n",
    "print(centers)"
   ]
  }
 ],
 "metadata": {
  "anaconda-cloud": {},
  "kernelspec": {
   "display_name": "Python [default]",
   "language": "python",
   "name": "python3"
  },
  "language_info": {
   "codemirror_mode": {
    "name": "ipython",
    "version": 3
   },
   "file_extension": ".py",
   "mimetype": "text/x-python",
   "name": "python",
   "nbconvert_exporter": "python",
   "pygments_lexer": "ipython3",
   "version": "3.11.1"
  }
 },
 "nbformat": 4,
 "nbformat_minor": 1
}
